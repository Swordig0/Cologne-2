{
 "cells": [
  {
   "cell_type": "code",
   "execution_count": null,
   "metadata": {},
   "outputs": [],
   "source": [
    "def crop_image(frame, x, y, w, h):\n",
    "    return frame[y:y+h, x:x+w]"
   ]
  },
  {
   "cell_type": "code",
   "execution_count": null,
   "metadata": {},
   "outputs": [],
   "source": [
    "\n",
    "def capture(cam, fps, frame_buffer, frame_queue, stop_event):\n",
    "    \n",
    "    cap = cv2.VideoCapture(cam)  # Open webcam\n",
    "    cap.set(cv2.CAP_PROP_FPS, fps)  # Set the desired FPS\n",
    "\n",
    "    while not stop_event.is_set():\n",
    "        if not cap.isOpened():\n",
    "            print(\"Error: Cannot open camera.\")\n",
    "            return\n",
    "\n",
    "        while not stop_event.is_set():\n",
    "            ret, frame = cap.read()\n",
    "            # if not ret:\n",
    "            #     print(\"Failed to capture frame. Exiting...\")\n",
    "            #     break\n",
    "            \n",
    "            c_frame = crop_image(frame, 290, 110, 100, 100)\n",
    "            brightness = measure_brightness(c_frame)\n",
    "\n",
    "            if not (brightness > 60 and brightness < 65) :\n",
    "                frame_buffer.append(frame)\n",
    "\n",
    "            else:\n",
    "                frame_queue.put(frame_buffer.copy())\n",
    "                frame_buffer.clear()\n",
    "\n",
    "    cap.release()"
   ]
  }
 ],
 "metadata": {
  "language_info": {
   "name": "python"
  }
 },
 "nbformat": 4,
 "nbformat_minor": 2
}
