{
 "cells": [
  {
   "cell_type": "code",
   "execution_count": 15,
   "metadata": {},
   "outputs": [],
   "source": [
    "import cv2\n",
    "import numpy as np\n",
    "from tensorflow.keras.models import load_model\n",
    "from tensorflow.keras.preprocessing.image import img_to_array\n",
    "from pymodbus.client import ModbusTcpClient"
   ]
  },
  {
   "cell_type": "code",
   "execution_count": 16,
   "metadata": {},
   "outputs": [],
   "source": [
    "cam = 0\n",
    "coil_address = 1536 #ModBus Y0\n",
    "IP = \"192.168.1.111\"  #PLC's IP address\n",
    "port = 502           # Default Modbus TCP port\n",
    "\n",
    "model_version = \"my_model_14.0.keras\"\n",
    "Im_Width = 128\n",
    "Im_Height = 128"
   ]
  },
  {
   "cell_type": "code",
   "execution_count": 17,
   "metadata": {},
   "outputs": [],
   "source": [
    "def modbus(IP, port):\n",
    "\n",
    "    # Create Modbus client\n",
    "    client = ModbusTcpClient(IP, port)\n",
    "\n",
    "    # Connect to the PLC\n",
    "    if not client.connect():\n",
    "        print(\"Failed to connect to PLC\")\n",
    "    else:\n",
    "        return client"
   ]
  },
  {
   "cell_type": "code",
   "execution_count": 18,
   "metadata": {},
   "outputs": [],
   "source": [
    "def PLC(client, coil_address,value):\n",
    "    write_result = client.write_coil(address=coil_address, value=value)  # Write 'True' to turn ON\n",
    "    if write_result.isError():\n",
    "        print(\"Write Error:\", write_result)"
   ]
  },
  {
   "cell_type": "code",
   "execution_count": 19,
   "metadata": {},
   "outputs": [],
   "source": [
    "def crop_image(frame, x, y, w, h):\n",
    "    return frame[y:y+h, x:x+w]"
   ]
  },
  {
   "cell_type": "code",
   "execution_count": 20,
   "metadata": {},
   "outputs": [],
   "source": [
    "def measure_brightness(frame):\n",
    "    gray = cv2.cvtColor(frame, cv2.COLOR_BGR2GRAY) \n",
    "    brightness = np.mean(gray)\n",
    "    return brightness "
   ]
  },
  {
   "cell_type": "code",
   "execution_count": 21,
   "metadata": {},
   "outputs": [],
   "source": [
    "def measure_edge_richness(frame):\n",
    "    gray = cv2.cvtColor(frame, cv2.COLOR_BGR2GRAY)  # Convert to grayscale\n",
    "    edges = cv2.Canny(gray, 200, 400)  # Apply Canny edge detection\n",
    "    edge_richness = np.sum(edges)  # Sum of edge pixel intensities\n",
    "    return edge_richness"
   ]
  },
  {
   "cell_type": "code",
   "execution_count": 22,
   "metadata": {},
   "outputs": [],
   "source": [
    "def select_best_frame(frame_buffer):\n",
    "\n",
    "    best_frame = None\n",
    "    highest_brightness = 150\n",
    "    highest_edge_richness = 100000\n",
    "\n",
    "    for frame in frame_buffer:\n",
    "\n",
    "        #Crop\n",
    "        cropped_frame = crop_image(frame, 220, 0, 200, 200)\n",
    "\n",
    "        # Measure brightness\n",
    "        brightness = measure_brightness(cropped_frame)\n",
    "\n",
    "        if brightness > 150:\n",
    "            # Update the best frame if this one is better\n",
    "            if brightness > highest_brightness:\n",
    "                highest_brightness = brightness\n",
    "                best_frame = frame  # Save the frame as the best frame\n",
    "    \n",
    "        elif brightness > 50 and brightness < 100:\n",
    "            # Apply edge detection\n",
    "            edge_richness = measure_edge_richness(cropped_frame)\n",
    "            # Update the best frame if this one is better\n",
    "            if edge_richness > highest_edge_richness:\n",
    "                highest_edge_richness = edge_richness\n",
    "                best_frame = frame  # Save the cropped frame as the best frame\n",
    "\n",
    "    return best_frame  # Returns None if no frames meet the threshold\n"
   ]
  },
  {
   "cell_type": "code",
   "execution_count": 23,
   "metadata": {},
   "outputs": [],
   "source": [
    "def process_frame(frame, target_size):\n",
    "\n",
    "    # Resize the frame to the target size\n",
    "    resized_frame = cv2.resize(frame, target_size)\n",
    "\n",
    "    # Normalize pixel values to [0, 1]\n",
    "    normalized_frame = resized_frame / 255.0\n",
    "\n",
    "    # Convert to NumPy array and add batch dimension\n",
    "    frame_array = img_to_array(normalized_frame)\n",
    "    frame_array = np.expand_dims(frame_array, axis=0)  # Shape: (1, height, width, channels)\n",
    "\n",
    "    return frame_array"
   ]
  },
  {
   "cell_type": "code",
   "execution_count": 24,
   "metadata": {},
   "outputs": [],
   "source": [
    "def predict_frame(frame, model, target_size):\n",
    "\n",
    "    # Preprocess the frame\n",
    "    frame_array = process_frame(frame, target_size)\n",
    "\n",
    "   # Make a prediction\n",
    "    prediction = model.predict(frame_array)[0][0]  # Get the confidence score\n",
    "    #print(f\"Raw Prediction: {prediction}\")\n",
    "\n",
    "    # Interpret the prediction\n",
    "    if prediction > 0.5:\n",
    "        PLC(client, coil_address,False)\n",
    "        return \"Non-Defective\", prediction       \n",
    "        \n",
    "    else:\n",
    "        PLC(client, coil_address,True)\n",
    "        return \"Defective\", prediction"
   ]
  },
  {
   "cell_type": "code",
   "execution_count": 25,
   "metadata": {},
   "outputs": [],
   "source": [
    "def capture(cam, model_path, target_size=(Im_Width, Im_Height)):\n",
    "\n",
    "    cap = cv2.VideoCapture(cam)  # Open webcam\n",
    "    frame_buffer = []\n",
    "    max_frames = 10  # Number of frames to evaluate\n",
    "\n",
    "    # Load the model\n",
    "    print(\"Loading model...\") \n",
    "    model = load_model(model_path)\n",
    "    print(\"Model loaded successfully.\")\n",
    "\n",
    "    while True:\n",
    "\n",
    "        ret, frame = cap.read()\n",
    "        if not ret:\n",
    "            print(\"Failed to capture frame. Exiting...\")\n",
    "            break\n",
    "\n",
    "        frame_buffer.append(frame)\n",
    "\n",
    "        # Process the buffer when it's full\n",
    "        if len(frame_buffer) == max_frames:\n",
    "            best_frame = select_best_frame(frame_buffer)\n",
    "            frame_buffer = []  # Clear the buffer\n",
    "\n",
    "            # Process and predict\n",
    "            if best_frame is not None:\n",
    "                feedback, confidence = predict_frame(best_frame, model, target_size)\n",
    "                #print(f\"Prediction: {feedback} (Confidence: {confidence:.2f})\")\n",
    "\n",
    "                prob = abs(round(confidence,2)- 0.5)*200\n",
    "\n",
    "                # Display feedback on the frame\n",
    "                cv2.putText(best_frame, f\"Prediction: {feedback}\", (10, 30),\n",
    "                    cv2.FONT_HERSHEY_SIMPLEX, 1, (0, 255, 0), 2)\n",
    "                cv2.putText(best_frame, f\"Confidence: {prob:.0f}\", (10, 60),\n",
    "                    cv2.FONT_HERSHEY_SIMPLEX, 1, (0, 255, 0), 2)\n",
    "\n",
    "                # Display the best frame\n",
    "                cv2.imshow(\"Best Frame\", best_frame)\n",
    "\n",
    "            else:\n",
    "                # Load and display the \"no-bottle\" image in the same window\n",
    "                image_path = \"no-bottle.bmp\"\n",
    "                image = cv2.imread(image_path)\n",
    "                PLC(client, coil_address,False)\n",
    "                cv2.putText(image, \"No Bottle!\", (10, 30),\n",
    "                    cv2.FONT_HERSHEY_SIMPLEX, 1, (0, 255, 0), 2)\n",
    "                cv2.imshow(\"Best Frame\", image)\n",
    "\n",
    "        # Exit on 'ESC' key\n",
    "        if cv2.waitKey(1) & 0xFF == 27:\n",
    "            break\n",
    "\n",
    "    cap.release()\n",
    "    cv2.destroyAllWindows()\n"
   ]
  },
  {
   "cell_type": "code",
   "execution_count": 26,
   "metadata": {},
   "outputs": [
    {
     "ename": "TypeError",
     "evalue": "ModbusTcpClient.__init__() takes 2 positional arguments but 3 were given",
     "output_type": "error",
     "traceback": [
      "\u001b[1;31m---------------------------------------------------------------------------\u001b[0m",
      "\u001b[1;31mTypeError\u001b[0m                                 Traceback (most recent call last)",
      "Cell \u001b[1;32mIn[26], line 3\u001b[0m\n\u001b[0;32m      1\u001b[0m \u001b[38;5;28;01mif\u001b[39;00m \u001b[38;5;18m__name__\u001b[39m \u001b[38;5;241m==\u001b[39m \u001b[38;5;124m\"\u001b[39m\u001b[38;5;124m__main__\u001b[39m\u001b[38;5;124m\"\u001b[39m:\n\u001b[0;32m      2\u001b[0m     model_path \u001b[38;5;241m=\u001b[39m model_version  \u001b[38;5;66;03m# Path to your saved model\u001b[39;00m\n\u001b[1;32m----> 3\u001b[0m     client \u001b[38;5;241m=\u001b[39m \u001b[43mmodbus\u001b[49m\u001b[43m(\u001b[49m\u001b[43mIP\u001b[49m\u001b[43m,\u001b[49m\u001b[43m \u001b[49m\u001b[43mport\u001b[49m\u001b[43m)\u001b[49m\n\u001b[0;32m      4\u001b[0m     capture(cam, model_path, target_size\u001b[38;5;241m=\u001b[39m(Im_Width, Im_Height))\n",
      "Cell \u001b[1;32mIn[17], line 4\u001b[0m, in \u001b[0;36mmodbus\u001b[1;34m(IP, port)\u001b[0m\n\u001b[0;32m      1\u001b[0m \u001b[38;5;28;01mdef\u001b[39;00m \u001b[38;5;21mmodbus\u001b[39m(IP, port):\n\u001b[0;32m      2\u001b[0m \n\u001b[0;32m      3\u001b[0m     \u001b[38;5;66;03m# Create Modbus client\u001b[39;00m\n\u001b[1;32m----> 4\u001b[0m     client \u001b[38;5;241m=\u001b[39m \u001b[43mModbusTcpClient\u001b[49m\u001b[43m(\u001b[49m\u001b[43mIP\u001b[49m\u001b[43m,\u001b[49m\u001b[43m \u001b[49m\u001b[43mport\u001b[49m\u001b[43m)\u001b[49m\n\u001b[0;32m      6\u001b[0m     \u001b[38;5;66;03m# Connect to the PLC\u001b[39;00m\n\u001b[0;32m      7\u001b[0m     \u001b[38;5;28;01mif\u001b[39;00m \u001b[38;5;129;01mnot\u001b[39;00m client\u001b[38;5;241m.\u001b[39mconnect():\n",
      "\u001b[1;31mTypeError\u001b[0m: ModbusTcpClient.__init__() takes 2 positional arguments but 3 were given"
     ]
    }
   ],
   "source": [
    "if __name__ == \"__main__\":\n",
    "    model_path = model_version  # Path to your saved model\n",
    "    client = modbus(IP, port)\n",
    "    capture(cam, model_path, target_size=(Im_Width, Im_Height))"
   ]
  }
 ],
 "metadata": {
  "kernelspec": {
   "display_name": "Python 3",
   "language": "python",
   "name": "python3"
  },
  "language_info": {
   "codemirror_mode": {
    "name": "ipython",
    "version": 3
   },
   "file_extension": ".py",
   "mimetype": "text/x-python",
   "name": "python",
   "nbconvert_exporter": "python",
   "pygments_lexer": "ipython3",
   "version": "3.10.0"
  }
 },
 "nbformat": 4,
 "nbformat_minor": 2
}
