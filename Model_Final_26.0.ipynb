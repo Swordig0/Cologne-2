{
 "cells": [
  {
   "cell_type": "code",
   "execution_count": 1,
   "metadata": {},
   "outputs": [],
   "source": [
    "import cv2\n",
    "import numpy as np\n",
    "import os\n",
    "import time\n",
    "from tensorflow.keras.models import load_model\n",
    "from tensorflow.keras.preprocessing.image import img_to_array\n",
    "from pymodbus.client import ModbusTcpClient"
   ]
  },
  {
   "cell_type": "code",
   "execution_count": 2,
   "metadata": {},
   "outputs": [],
   "source": [
    "cam = 2\n",
    "\n",
    "model_version = \"my_model_22.0.keras\"\n",
    "\n",
    "Im_Width = 128\n",
    "Im_Height = 128\n",
    "\n",
    "Y6 = 1542 #ModBus Y6\n",
    "Y4 = 1540\n",
    "PLC_IP = \"192.168.1.111\"  #PLC's IP address\n",
    "PLC_PORT = 502           # Default Modbus TCP port"
   ]
  },
  {
   "cell_type": "code",
   "execution_count": 3,
   "metadata": {},
   "outputs": [],
   "source": [
    "def modbus(PLC_IP, PLC_PORT):\n",
    "\n",
    "    # Create Modbus client\n",
    "    client = ModbusTcpClient(PLC_IP, port=PLC_PORT)\n",
    "\n",
    "    # Connect to the PLC\n",
    "    if client.connect():\n",
    "        print(\"Connection successful\")\n",
    "    else:\n",
    "        print(\"Failed to connect to PLC\")\n",
    "    return client"
   ]
  },
  {
   "cell_type": "code",
   "execution_count": 4,
   "metadata": {},
   "outputs": [],
   "source": [
    "def read_PLC_output(client, coil):\n",
    "    read_result = client.read_coils(address=coil)  # Read a single coil (output)\n",
    "    if read_result.isError():\n",
    "        print(\"Read Error:\", read_result)\n",
    "        return None\n",
    "    return read_result.bits[0]  # Return the first coil state (True for ON, False for OFF)"
   ]
  },
  {
   "cell_type": "code",
   "execution_count": 5,
   "metadata": {},
   "outputs": [],
   "source": [
    "def write_PLC_output(client, coil,value):\n",
    "    write_result = client.write_coil(address=coil, value=value)  # Write 'True' to turn ON\n",
    "    if write_result.isError():\n",
    "        print(\"Write Error:\", write_result)\n",
    "    else:\n",
    "        print(f\"Output Y6 turned ON (Coil {Y4})\")"
   ]
  },
  {
   "cell_type": "code",
   "execution_count": 6,
   "metadata": {},
   "outputs": [],
   "source": [
    "def process_frame(frame, target_size):\n",
    "\n",
    "    # Resize the frame to the target size\n",
    "    resized_frame = cv2.resize(frame, target_size)\n",
    "\n",
    "    # Normalize pixel values to [0, 1]\n",
    "    normalized_frame = resized_frame / 255.0\n",
    "\n",
    "    # Convert to NumPy array and add batch dimension\n",
    "    frame_array = img_to_array(normalized_frame)\n",
    "    frame_array = np.expand_dims(frame_array, axis=0)  # Shape: (1, height, width, channels)\n",
    "\n",
    "    return frame_array"
   ]
  },
  {
   "cell_type": "code",
   "execution_count": 7,
   "metadata": {},
   "outputs": [],
   "source": [
    "def predict_frame(client, frame, model, target_size):\n",
    "    \n",
    "    # Preprocess the frame\n",
    "    frame_array = process_frame(frame, target_size)\n",
    "\n",
    "    # Make a prediction\n",
    "    predictions = model.predict(frame_array)  # Outputs probabilities for each class\n",
    "    predicted_class = np.argmax(predictions[0])  # Get the index of the class with the highest probability\n",
    "    confidence = predictions[0][predicted_class]  # Confidence score for the predicted class\n",
    "\n",
    "    # Map class indices to labels\n",
    "    class_labels = {0: \"Defective\", 2: \"Non-Defective\", 1: \"No Bottle\"}  # Update this to match your classes\n",
    "    predicted_label = class_labels[predicted_class]\n",
    "\n",
    "    if predicted_class == 0:\n",
    "        write_PLC_output(client, Y6, False)\n",
    "        \n",
    "    elif predicted_class == 1:\n",
    "        write_PLC_output(client, Y6, True)\n",
    "        time.sleep(0.3)\n",
    "        write_PLC_output(client, Y6, False)\n",
    "\n",
    "    elif predicted_class == 2:\n",
    "        write_PLC_output(client, Y6, True)\n",
    "        time.sleep(0.3)\n",
    "        write_PLC_output(client, Y6, False)\n",
    "\n",
    "    print(f\"Raw Predictions: {predictions[0]}\")\n",
    "    print(f\"Predicted Class: {predicted_label}, Confidence: {confidence:.2f}\")\n",
    "\n",
    "    return predicted_label, confidence"
   ]
  },
  {
   "cell_type": "code",
   "execution_count": 8,
   "metadata": {},
   "outputs": [],
   "source": [
    "def capture(client, model_version, target_size=(Im_Width, Im_Height)):\n",
    "    cap = cv2.VideoCapture(2)\n",
    "    if not cap.isOpened():\n",
    "        print(\"Error: Could not open the camera.\")\n",
    "        return\n",
    "\n",
    "     # Load the model\n",
    "    print(\"Loading model...\") \n",
    "    model = load_model(model_version)\n",
    "    print(\"Model loaded successfully.\")\n",
    "    \n",
    "    output_dir = \"frames\"\n",
    "    os.makedirs(output_dir, exist_ok=True)  # Ensure output directory exists\n",
    "    frame_count = 0\n",
    "    #flag = False  # Tracks the previous state of the output\n",
    "\n",
    "    while True:\n",
    "        result = client.read_coils(Y4)  # Ensure count=1 to avoid errors\n",
    "        if result.isError():\n",
    "            print(\"Modbus Read Error:\", result)\n",
    "            continue  # Skip iteration on error\n",
    "\n",
    "        current_state = result.bits[0]  # Read the coil status\n",
    "\n",
    "        # Detect rising edge: transition from False -> True\n",
    "        if current_state:\n",
    "            print(\"TRUE - Capturing Frame\")\n",
    "            \n",
    "            ret, frame = cap.read()\n",
    "            if not ret:\n",
    "                print(\"Error: Frame capture failed.\")\n",
    "                break\n",
    "            \n",
    "            # Save the frame\n",
    "            frame_filename = os.path.join(output_dir, f\"frame_{frame_count:04d}.jpg\")\n",
    "            cv2.imwrite(frame_filename, frame)\n",
    "            print(f\"Saved: {frame_filename}\") \n",
    "            frame_count += 1\n",
    "\n",
    "            predicted_label, confidence = predict_frame(client, frame, model, target_size=(Im_Width, Im_Height))\n",
    "\n",
    "            prob = abs(round(confidence,2)- 0.5)*200\n",
    "            print(f\"Prediction: {predicted_label} (Confidence: {prob:.2f})\")\n",
    "\n",
    "            # Display predicted_label on the frame\n",
    "            cv2.putText(frame, f\"Prediction: {predicted_label}\", (10, 30),\n",
    "                cv2.FONT_HERSHEY_SIMPLEX, 1, (0, 255, 0), 2)\n",
    "            cv2.putText(frame, f\"Confidence: {prob:.0f}\", (10, 60),\n",
    "                cv2.FONT_HERSHEY_SIMPLEX, 1, (0, 255, 0), 2)\n",
    "\n",
    "            # Display the best frame\n",
    "            cv2.imshow(\"Best Frame\", frame)\n",
    "\n",
    "        # Update flag to track previous state\n",
    "        #flag = current_state\n",
    "\n",
    "        # Break on 'q' key press\n",
    "        if cv2.waitKey(1) & 0xFF == ord('q'):\n",
    "            break\n",
    "\n",
    "    # Release resources\n",
    "    cap.release()\n",
    "    cv2.destroyAllWindows()\n"
   ]
  },
  {
   "cell_type": "code",
   "execution_count": 9,
   "metadata": {},
   "outputs": [
    {
     "name": "stderr",
     "output_type": "stream",
     "text": [
      "Connection to (192.168.1.111, 502) failed: [WinError 10065] A socket operation was attempted to an unreachable host\n"
     ]
    },
    {
     "name": "stdout",
     "output_type": "stream",
     "text": [
      "Failed to connect to PLC\n",
      "Loading model...\n"
     ]
    },
    {
     "name": "stderr",
     "output_type": "stream",
     "text": [
      "Connection to (192.168.1.111, 502) failed: [WinError 10065] A socket operation was attempted to an unreachable host\n"
     ]
    },
    {
     "name": "stdout",
     "output_type": "stream",
     "text": [
      "Model loaded successfully.\n"
     ]
    },
    {
     "ename": "ConnectionException",
     "evalue": "Modbus Error: [Connection] Failed to connect[ModbusTcpClient 192.168.1.111:502]",
     "output_type": "error",
     "traceback": [
      "\u001b[1;31m---------------------------------------------------------------------------\u001b[0m",
      "\u001b[1;31mConnectionException\u001b[0m                       Traceback (most recent call last)",
      "Cell \u001b[1;32mIn[9], line 4\u001b[0m\n\u001b[0;32m      1\u001b[0m \u001b[38;5;28;01mif\u001b[39;00m \u001b[38;5;18m__name__\u001b[39m \u001b[38;5;241m==\u001b[39m \u001b[38;5;124m\"\u001b[39m\u001b[38;5;124m__main__\u001b[39m\u001b[38;5;124m\"\u001b[39m:\n\u001b[0;32m      3\u001b[0m     client \u001b[38;5;241m=\u001b[39m modbus(PLC_IP, PLC_PORT)\n\u001b[1;32m----> 4\u001b[0m     \u001b[43mcapture\u001b[49m\u001b[43m(\u001b[49m\u001b[43mclient\u001b[49m\u001b[43m,\u001b[49m\u001b[43m \u001b[49m\u001b[43mmodel_version\u001b[49m\u001b[43m,\u001b[49m\u001b[43m \u001b[49m\u001b[43mtarget_size\u001b[49m\u001b[38;5;241;43m=\u001b[39;49m\u001b[43m(\u001b[49m\u001b[43mIm_Width\u001b[49m\u001b[43m,\u001b[49m\u001b[43m \u001b[49m\u001b[43mIm_Height\u001b[49m\u001b[43m)\u001b[49m\u001b[43m)\u001b[49m\n",
      "Cell \u001b[1;32mIn[8], line 18\u001b[0m, in \u001b[0;36mcapture\u001b[1;34m(client, model_version, target_size)\u001b[0m\n\u001b[0;32m     15\u001b[0m \u001b[38;5;66;03m#flag = False  # Tracks the previous state of the output\u001b[39;00m\n\u001b[0;32m     17\u001b[0m \u001b[38;5;28;01mwhile\u001b[39;00m \u001b[38;5;28;01mTrue\u001b[39;00m:\n\u001b[1;32m---> 18\u001b[0m     result \u001b[38;5;241m=\u001b[39m \u001b[43mclient\u001b[49m\u001b[38;5;241;43m.\u001b[39;49m\u001b[43mread_coils\u001b[49m\u001b[43m(\u001b[49m\u001b[43mY4\u001b[49m\u001b[43m)\u001b[49m  \u001b[38;5;66;03m# Ensure count=1 to avoid errors\u001b[39;00m\n\u001b[0;32m     19\u001b[0m     \u001b[38;5;28;01mif\u001b[39;00m result\u001b[38;5;241m.\u001b[39misError():\n\u001b[0;32m     20\u001b[0m         \u001b[38;5;28mprint\u001b[39m(\u001b[38;5;124m\"\u001b[39m\u001b[38;5;124mModbus Read Error:\u001b[39m\u001b[38;5;124m\"\u001b[39m, result)\n",
      "File \u001b[1;32mc:\\Users\\malin\\AppData\\Local\\Programs\\Python\\Python310\\lib\\site-packages\\pymodbus\\client\\mixin.py:70\u001b[0m, in \u001b[0;36mModbusClientMixin.read_coils\u001b[1;34m(self, address, count, slave, no_response_expected)\u001b[0m\n\u001b[0;32m     57\u001b[0m \u001b[38;5;28;01mdef\u001b[39;00m \u001b[38;5;21mread_coils\u001b[39m(\u001b[38;5;28mself\u001b[39m, address: \u001b[38;5;28mint\u001b[39m, \u001b[38;5;241m*\u001b[39m, count: \u001b[38;5;28mint\u001b[39m \u001b[38;5;241m=\u001b[39m \u001b[38;5;241m1\u001b[39m, slave: \u001b[38;5;28mint\u001b[39m \u001b[38;5;241m=\u001b[39m \u001b[38;5;241m1\u001b[39m, no_response_expected: \u001b[38;5;28mbool\u001b[39m \u001b[38;5;241m=\u001b[39m \u001b[38;5;28;01mFalse\u001b[39;00m) \u001b[38;5;241m-\u001b[39m\u001b[38;5;241m>\u001b[39m T:\n\u001b[0;32m     58\u001b[0m \u001b[38;5;250m    \u001b[39m\u001b[38;5;124;03m\"\"\"Read coils (code 0x01).\u001b[39;00m\n\u001b[0;32m     59\u001b[0m \n\u001b[0;32m     60\u001b[0m \u001b[38;5;124;03m    :param address: Start address to read from\u001b[39;00m\n\u001b[1;32m   (...)\u001b[0m\n\u001b[0;32m     68\u001b[0m \u001b[38;5;124;03m    Coils are addressed as 0-N (Note some device manuals uses 1-N, assuming 1==0).\u001b[39;00m\n\u001b[0;32m     69\u001b[0m \u001b[38;5;124;03m    \"\"\"\u001b[39;00m\n\u001b[1;32m---> 70\u001b[0m     \u001b[38;5;28;01mreturn\u001b[39;00m \u001b[38;5;28;43mself\u001b[39;49m\u001b[38;5;241;43m.\u001b[39;49m\u001b[43mexecute\u001b[49m\u001b[43m(\u001b[49m\u001b[43mno_response_expected\u001b[49m\u001b[43m,\u001b[49m\u001b[43m \u001b[49m\u001b[43mpdu_bit\u001b[49m\u001b[38;5;241;43m.\u001b[39;49m\u001b[43mReadCoilsRequest\u001b[49m\u001b[43m(\u001b[49m\u001b[43maddress\u001b[49m\u001b[38;5;241;43m=\u001b[39;49m\u001b[43maddress\u001b[49m\u001b[43m,\u001b[49m\u001b[43m \u001b[49m\u001b[43mcount\u001b[49m\u001b[38;5;241;43m=\u001b[39;49m\u001b[43mcount\u001b[49m\u001b[43m,\u001b[49m\u001b[43m \u001b[49m\u001b[43mdev_id\u001b[49m\u001b[38;5;241;43m=\u001b[39;49m\u001b[43mslave\u001b[49m\u001b[43m)\u001b[49m\u001b[43m)\u001b[49m\n",
      "File \u001b[1;32mc:\\Users\\malin\\AppData\\Local\\Programs\\Python\\Python310\\lib\\site-packages\\pymodbus\\client\\base.py:185\u001b[0m, in \u001b[0;36mModbusBaseSyncClient.execute\u001b[1;34m(self, no_response_expected, request)\u001b[0m\n\u001b[0;32m    175\u001b[0m \u001b[38;5;250m\u001b[39m\u001b[38;5;124;03m\"\"\"Execute request and get response (call **sync/async**).\u001b[39;00m\n\u001b[0;32m    176\u001b[0m \n\u001b[0;32m    177\u001b[0m \u001b[38;5;124;03m:param no_response_expected: The client will not expect a response to the request\u001b[39;00m\n\u001b[1;32m   (...)\u001b[0m\n\u001b[0;32m    182\u001b[0m \u001b[38;5;124;03m:meta private:\u001b[39;00m\n\u001b[0;32m    183\u001b[0m \u001b[38;5;124;03m\"\"\"\u001b[39;00m\n\u001b[0;32m    184\u001b[0m \u001b[38;5;28;01mif\u001b[39;00m \u001b[38;5;129;01mnot\u001b[39;00m \u001b[38;5;28mself\u001b[39m\u001b[38;5;241m.\u001b[39mconnect():\n\u001b[1;32m--> 185\u001b[0m     \u001b[38;5;28;01mraise\u001b[39;00m ConnectionException(\u001b[38;5;124mf\u001b[39m\u001b[38;5;124m\"\u001b[39m\u001b[38;5;124mFailed to connect[\u001b[39m\u001b[38;5;132;01m{\u001b[39;00m\u001b[38;5;28mself\u001b[39m\u001b[38;5;132;01m!s}\u001b[39;00m\u001b[38;5;124m]\u001b[39m\u001b[38;5;124m\"\u001b[39m)\n\u001b[0;32m    186\u001b[0m \u001b[38;5;28;01mreturn\u001b[39;00m \u001b[38;5;28mself\u001b[39m\u001b[38;5;241m.\u001b[39mtransaction\u001b[38;5;241m.\u001b[39msync_execute(no_response_expected, request)\n",
      "\u001b[1;31mConnectionException\u001b[0m: Modbus Error: [Connection] Failed to connect[ModbusTcpClient 192.168.1.111:502]"
     ]
    }
   ],
   "source": [
    "if __name__ == \"__main__\":\n",
    "\n",
    "    client = modbus(PLC_IP, PLC_PORT)\n",
    "    capture(client, model_version, target_size=(Im_Width, Im_Height))\n"
   ]
  }
 ],
 "metadata": {
  "kernelspec": {
   "display_name": "Python 3",
   "language": "python",
   "name": "python3"
  },
  "language_info": {
   "codemirror_mode": {
    "name": "ipython",
    "version": 3
   },
   "file_extension": ".py",
   "mimetype": "text/x-python",
   "name": "python",
   "nbconvert_exporter": "python",
   "pygments_lexer": "ipython3",
   "version": "3.10.0"
  }
 },
 "nbformat": 4,
 "nbformat_minor": 2
}
