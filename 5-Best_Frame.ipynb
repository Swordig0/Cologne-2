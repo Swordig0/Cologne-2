{
 "cells": [
  {
   "cell_type": "code",
   "execution_count": 31,
   "metadata": {},
   "outputs": [],
   "source": [
    "import os\n",
    "import cv2\n",
    "import numpy as np"
   ]
  },
  {
   "cell_type": "code",
   "execution_count": 32,
   "metadata": {},
   "outputs": [],
   "source": [
    "def crop_image(frame, x, y, w, h):\n",
    "    return frame[y:y+h, x:x+w]"
   ]
  },
  {
   "cell_type": "code",
   "execution_count": 33,
   "metadata": {},
   "outputs": [],
   "source": [
    "def measure_brightness(frame):\n",
    "    gray = cv2.cvtColor(frame, cv2.COLOR_BGR2GRAY)  # Convert to grayscale\n",
    "    brightness = np.mean(gray)  # Compute the mean intensity\n",
    "    return brightness"
   ]
  },
  {
   "cell_type": "code",
   "execution_count": 34,
   "metadata": {},
   "outputs": [],
   "source": [
    "def measure_edge_richness(frame):\n",
    "    gray = cv2.cvtColor(frame, cv2.COLOR_BGR2GRAY)  # Convert to grayscale\n",
    "    edges = cv2.Canny(gray, 100, 200)  # Apply Canny edge detection\n",
    "    edge_richness = np.sum(edges)  # Sum of edge pixel intensities\n",
    "    return edges, edge_richness"
   ]
  },
  {
   "cell_type": "code",
   "execution_count": null,
   "metadata": {},
   "outputs": [
    {
     "name": "stdout",
     "output_type": "stream",
     "text": [
      "Processed frame_0840.jpg: Brightness = 141.48\n",
      "Processed frame_0841.jpg: Brightness = 141.20\n",
      "Processed frame_0842.jpg: Brightness = 140.91\n",
      "Processed frame_0843.jpg: Brightness = 142.26\n",
      "Processed frame_0844.jpg: Brightness = 142.59\n",
      "Processed frame_0845.jpg: Brightness = 142.98\n",
      "Processed frame_0846.jpg: Brightness = 143.28\n",
      "Processed frame_0847.jpg: Brightness = 144.29\n",
      "Processed frame_0848.jpg: Brightness = 144.54\n",
      "Processed frame_0849.jpg: Brightness = 144.97\n",
      "Processed frame_0850.jpg: Brightness = 145.48\n",
      "Processed frame_0851.jpg: Brightness = 148.28\n",
      "Processed frame_0852.jpg: Brightness = 148.33\n",
      "Processed frame_0853.jpg: Brightness = 149.58\n",
      "Processed frame_0854.jpg: Brightness = 155.67\n",
      "Processed frame_0855.jpg: Brightness = 158.55\n",
      "Processed frame_0856.jpg: Brightness = 159.57\n",
      "Processed frame_0857.jpg: Brightness = 162.23\n",
      "Best frame saved as: Results/Best/0/Best\\best_frame_frame_0857.jpg with Brightness = -1\n"
     ]
    }
   ],
   "source": [
    "def process_brightness_batch(input_path, output_path):\n",
    "    \"\"\"\n",
    "    Processes a batch of images, measures brightness, and saves results.\n",
    "\n",
    "    Args:\n",
    "        input_path (str): Path to the folder containing input images.\n",
    "        output_path (str): Path to save results.\n",
    "    \"\"\"\n",
    "    if not os.path.exists(output_path):\n",
    "        os.makedirs(output_path)  # Create the output directory if it doesn't exist\n",
    "\n",
    "    best_frame = None\n",
    "    best_frame_name = None\n",
    "    highest_brightness = -1  # Initialize with a very low value\n",
    "    highest_edge_richness = 400000\n",
    "\n",
    "    brightness_scores = []\n",
    "\n",
    "    for filename in os.listdir(input_path):\n",
    "        input_file = os.path.join(input_path, filename)\n",
    "\n",
    "        # Ensure the file is an image\n",
    "        if not filename.lower().endswith(('.jpg')):\n",
    "            continue\n",
    "\n",
    "        # Read the image\n",
    "        frame = cv2.imread(input_file)\n",
    "        if frame is None:\n",
    "            print(f\"Failed to read {input_file}. Skipping...\")\n",
    "            continue\n",
    "        \n",
    "        cropped = crop_image(frame, x, y, w, h)\n",
    "        #cropped_frame = os.path.join(cropped_frame_path, f\"{filename}\")\n",
    "        #cv2.imwrite(cropped_frame, cropped)\n",
    "        \n",
    "        # Measure brightness\n",
    "        brightness = measure_brightness(cropped)\n",
    "        brightness_scores.append((filename, brightness))\n",
    "        print(f\"Processed {filename}: Brightness = {brightness:.2f}\")\n",
    "\n",
    "        # Save brightness scores to a text file\n",
    "        scores_file = os.path.join(output_path, \"brightness_scores.txt\")\n",
    "        with open(scores_file, \"a\") as f:\n",
    "            f.write(f\"Name {filename} : {brightness:.2f}\\n\")\n",
    "\n",
    "        if brightness > 180:\n",
    "            # Update the best frame if this one is better\n",
    "            if brightness > highest_brightness:\n",
    "                highest_brightness = brightness\n",
    "                best_frame = frame  # Save the frame as the best frame\n",
    "                best_frame_name = filename\n",
    "    \n",
    "        elif brightness >  100 and brightness < 181:\n",
    "           # Apply edge detection\n",
    "            edge, edge_richness = measure_edge_richness(cropped)\n",
    "            # Update the best frame if this one is better\n",
    "            if edge_richness > highest_edge_richness:\n",
    "                highest_edge_richness = edge_richness\n",
    "                best_frame = frame  # Save the cropped frame as the best frame\n",
    "                best_frame_name = filename \n",
    "        \n",
    "\n",
    "    # Save the best frame separately\n",
    "    if best_frame is not None:\n",
    "        best_frame_file = os.path.join(best_frame_path, f\"best_frame_{best_frame_name}\")\n",
    "        cv2.imwrite(best_frame_file, best_frame)\n",
    "        print(f\"Best frame saved as: {best_frame_file} with Brightness = {highest_brightness}\")\n",
    "\n",
    "\n",
    "# Example usage\n",
    "input_path = \"Samples/0\"   # Replace with your input images path\n",
    "output_path = \"Results/Best/0\"  # Replace with your results path\n",
    "best_frame_path = \"Results/Best/0/Best\"    # Replace with the path to save the best frame\n",
    "cropped_frame_path = \"Results/Best/0/Crop\" \n",
    "x, y, w, h = 120, 0, 400, 200  # Example crop rectangle (top-left at (100, 50), 200x200 size)\n",
    "process_brightness_batch(input_path, output_path)"
   ]
  }
 ],
 "metadata": {
  "kernelspec": {
   "display_name": "Python 3",
   "language": "python",
   "name": "python3"
  },
  "language_info": {
   "codemirror_mode": {
    "name": "ipython",
    "version": 3
   },
   "file_extension": ".py",
   "mimetype": "text/x-python",
   "name": "python",
   "nbconvert_exporter": "python",
   "pygments_lexer": "ipython3",
   "version": "3.10.0"
  }
 },
 "nbformat": 4,
 "nbformat_minor": 2
}
