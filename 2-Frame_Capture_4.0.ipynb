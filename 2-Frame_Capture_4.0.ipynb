{
 "cells": [
  {
   "cell_type": "code",
   "execution_count": 9,
   "metadata": {},
   "outputs": [],
   "source": [
    "import cv2\n",
    "import os\n",
    "import time\n",
    "from pymodbus.client import ModbusTcpClient"
   ]
  },
  {
   "cell_type": "code",
   "execution_count": 40,
   "metadata": {},
   "outputs": [],
   "source": [
    "coil_address = 1540 #ModBus Y0\n",
    "input_address = 0\n",
    "PLC_IP = \"192.168.1.111\"  #PLC's IP address\n",
    "PLC_PORT = 502           # Default Modbus TCP port"
   ]
  },
  {
   "cell_type": "code",
   "execution_count": 11,
   "metadata": {},
   "outputs": [],
   "source": [
    "def modbus(PLC_IP, PLC_PORT):\n",
    "\n",
    "    # Create Modbus client\n",
    "    client = ModbusTcpClient(PLC_IP, port=PLC_PORT)\n",
    "\n",
    "    # Connect to the PLC\n",
    "    if client.connect():\n",
    "        print(\"Connection successful\")\n",
    "    else:\n",
    "        print(\"Failed to connect to PLC\")\n",
    "    return client"
   ]
  },
  {
   "cell_type": "code",
   "execution_count": 12,
   "metadata": {},
   "outputs": [],
   "source": [
    "def PLC(client, coil_address,value):\n",
    "    write_result = client.write_coil(address=coil_address, value=value)  # Write 'True' to turn ON\n",
    "    if write_result.isError():\n",
    "        print(\"Write Error:\", write_result)"
   ]
  },
  {
   "cell_type": "code",
   "execution_count": 36,
   "metadata": {},
   "outputs": [],
   "source": [
    "def read_PLC_input(client, input_address):\n",
    "    read_result = client.read_discrete_inputs(address=input_address, count=1)  # Read a single input\n",
    "    if read_result.isError():\n",
    "        print(\"Read Error:\", read_result)\n",
    "        return None\n",
    "    return read_result.bits[0]  # Return the first (and only) input value\n"
   ]
  },
  {
   "cell_type": "code",
   "execution_count": 63,
   "metadata": {},
   "outputs": [],
   "source": [
    "def read_PLC_output(client, coil_address):\n",
    "    read_result = client.read_coils(address=coil_address)  # Read a single coil (output)\n",
    "    if read_result.isError():\n",
    "        print(\"Read Error:\", read_result)\n",
    "        return None\n",
    "    return read_result.bits[0]  # Return the first coil state (True for ON, False for OFF)\n"
   ]
  },
  {
   "cell_type": "code",
   "execution_count": 73,
   "metadata": {},
   "outputs": [],
   "source": [
    "def capture():\n",
    "    cap = cv2.VideoCapture(0)\n",
    "    if not cap.isOpened():\n",
    "        print(\"Error: Could not open the camera.\")\n",
    "        return\n",
    "    \n",
    "    output_dir = \"frames\"\n",
    "    frame_count = 0\n",
    "\n",
    "    flag = True\n",
    "\n",
    "    #PLC(client, coil_address,True)\n",
    "\n",
    "    # time.sleep(0.5)  # Wait for PLC to update\n",
    "    # result = client.read_coils(1540)  # Read the same coil\n",
    "    # print(\"Output status:\", result.bits[0])\n",
    "\n",
    "    while True:\n",
    "        result = client.read_coils(1540)  # Read the same coil\n",
    "        print(\"Output status:\", result.bits[0])\n",
    "        if (result.bits[0] and flag) is True:\n",
    "            print(\"TRUE\")\n",
    "            ret, frame = cap.read()\n",
    "            if not ret:\n",
    "                print(\"Error: Frame capture failed.\")\n",
    "                break\n",
    "             \n",
    "            # Save the current frame as an image\n",
    "            frame_filename = os.path.join(output_dir, f\"frame_{frame_count:04d}.jpg\")\n",
    "            cv2.imwrite(frame_filename, frame)\n",
    "            print(f\"Saved: {frame_filename}\") \n",
    "            frame_count += 1\n",
    "            flag = False \n",
    "            time.sleep(0.5)\n",
    "\n",
    "\n",
    "            # Display the frame\n",
    "            cv2.imshow(\"Live Stream - Capturing Frames\", frame)\n",
    "            time.sleep(1)\n",
    "    \n",
    "        if result.bits[0] is False:\n",
    "            print(\"FALSE\")\n",
    "            flag = True\n",
    "            \n",
    "\n",
    "        \n",
    "\n",
    "        #Break on 'q' key press\n",
    "        if cv2.waitKey(1) & 0xFF == ord('q'):\n",
    "            break\n",
    "\n",
    "    # Release resources\n",
    "    cap.release()\n",
    "    cv2.destroyAllWindows()\n",
    "    #print(f\"Captured {frame_count} frames, saved in '{output_dir}'.\")"
   ]
  },
  {
   "cell_type": "code",
   "execution_count": null,
   "metadata": {},
   "outputs": [],
   "source": [
    "\n",
    "def save_frames_as_images():\n",
    "    # Create a directory to store the images\n",
    "    output_dir = \"frames\"\n",
    "    os.makedirs(output_dir, exist_ok=True)\n",
    "\n",
    "    # Capture video from a camera (or a video file)\n",
    "    cap = cv2.VideoCapture(2)  # Use 0 for the default camera\n",
    "    cap.set(cv2.CAP_PROP_FPS, 240)\n",
    "\n",
    "    # Check if the camera is opened successfully\n",
    "    if not cap.isOpened():\n",
    "        print(\"Error: Could not open the camera.\")\n",
    "        return\n",
    "\n",
    "    frame_count = 0\n",
    "    print(\"Press 'q' to stop capturing frames.\")\n",
    "\n",
    "    duration = 30\n",
    "    start_time = time.time()\n",
    "\n",
    "    while True :\n",
    "        ret, frame = cap.read()\n",
    "        if not ret:\n",
    "            print(\"Error: Frame capture failed.\")\n",
    "            break\n",
    "\n",
    "        # Save the current frame as an image\n",
    "        frame_filename = os.path.join(output_dir, f\"frame_{frame_count:04d}.jpg\")\n",
    "        cv2.imwrite(frame_filename, frame)\n",
    "        print(f\"Saved: {frame_filename}\")\n",
    "        frame_count += 1\n",
    "        \n",
    "        elapsed_time = time.time() - start_time\n",
    "        if elapsed_time >= duration:\n",
    "            break\n",
    "\n",
    "        # Display the frame\n",
    "        cv2.imshow(\"Live Stream - Capturing Frames\", frame)\n",
    "\n",
    "        #Break on 'q' key press\n",
    "        if cv2.waitKey(1) & 0xFF == ord('q'):\n",
    "            break\n",
    "\n",
    "    # Release resources\n",
    "    cap.release()\n",
    "    cv2.destroyAllWindows()\n",
    "    print(f\"Captured {frame_count} frames, saved in '{output_dir}'.\")\n",
    "\n",
    "if __name__ == \"__main__\":\n",
    "    save_frames_as_images()\n"
   ]
  },
  {
   "cell_type": "code",
   "execution_count": 76,
   "metadata": {},
   "outputs": [
    {
     "name": "stdout",
     "output_type": "stream",
     "text": [
      "Connection successful\n",
      "Output status: True\n",
      "TRUE\n",
      "Saved: frames\\frame_0000.jpg\n"
     ]
    }
   ],
   "source": [
    "if __name__ == \"__main__\":\n",
    "\n",
    "    client = modbus(PLC_IP, PLC_PORT)\n",
    "    capture()\n",
    "    # import time\n",
    "\n",
    "    # client.write_coil(1540, True)  # Turn on coil\n",
    "    # time.sleep(0.5)  # Wait for PLC to update\n",
    "    # result = client.read_coils(1540)  # Read the same coil\n",
    "    # print(\"Output status:\", result.bits[0])\n",
    "    # time.sleep(0.5) \n",
    "    # client.write_coil(1540, False)\n",
    "    # time.sleep(0.5)\n",
    "    # result = client.read_coils(1540)  # Read the same coil\n",
    "    # print(\"Output status:\", result.bits[0])\n",
    "\n",
    "    "
   ]
  }
 ],
 "metadata": {
  "kernelspec": {
   "display_name": "Python 3",
   "language": "python",
   "name": "python3"
  },
  "language_info": {
   "codemirror_mode": {
    "name": "ipython",
    "version": 3
   },
   "file_extension": ".py",
   "mimetype": "text/x-python",
   "name": "python",
   "nbconvert_exporter": "python",
   "pygments_lexer": "ipython3",
   "version": "3.10.0"
  }
 },
 "nbformat": 4,
 "nbformat_minor": 2
}
