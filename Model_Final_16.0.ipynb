{
 "cells": [
  {
   "cell_type": "code",
   "execution_count": 1,
   "metadata": {},
   "outputs": [],
   "source": [
    "import cv2\n",
    "import numpy as np\n",
    "from tensorflow.keras.models import load_model\n",
    "from tensorflow.keras.preprocessing.image import img_to_array\n",
    "import threading\n",
    "import queue\n",
    "import time"
   ]
  },
  {
   "cell_type": "code",
   "execution_count": 2,
   "metadata": {},
   "outputs": [],
   "source": [
    "cam = 2\n",
    "fps = 240 #Maximum achivable was 163.06\n",
    "\n",
    "model_version = \"my_model_20.0.keras\"\n",
    "max_frames = 90 # Number of frames to evaluate\n",
    "\n",
    "image_path = \"no_bottle.jpg\"\n",
    "frame_buffer = []\n",
    "frame_buffer_2 = []\n",
    "frame_queue = queue.Queue(maxsize=10)\n",
    "frame_queue_2 = queue.Queue(maxsize=10)\n",
    "\n",
    "Im_Width = 128\n",
    "Im_Height = 128\n",
    "\n",
    "#crop\n",
    "x = 120\n",
    "y = 0\n",
    "w = 400\n",
    "h = 200\n",
    "\n",
    "max_brightness = 175\n",
    "#max_edgeRichness = \n",
    "\n",
    "#run = True\n",
    "stop_event = threading.Event()"
   ]
  },
  {
   "cell_type": "code",
   "execution_count": 3,
   "metadata": {},
   "outputs": [],
   "source": [
    "def crop_image(frame, x, y, w, h):\n",
    "    return frame[y:y+h, x:x+w]"
   ]
  },
  {
   "cell_type": "code",
   "execution_count": 4,
   "metadata": {},
   "outputs": [],
   "source": [
    "def measure_brightness(frame):\n",
    "    gray = cv2.cvtColor(frame, cv2.COLOR_BGR2GRAY) \n",
    "    brightness = np.mean(gray)\n",
    "    return brightness "
   ]
  },
  {
   "cell_type": "code",
   "execution_count": 5,
   "metadata": {},
   "outputs": [],
   "source": [
    "def measure_edge_richness(frame):\n",
    "    gray = cv2.cvtColor(frame, cv2.COLOR_BGR2GRAY)  # Convert to grayscale\n",
    "    edges = cv2.Canny(gray, 200, 400)  # Apply Canny edge detection\n",
    "    edge_richness = np.sum(edges)  # Sum of edge pixel intensities\n",
    "    return edge_richness"
   ]
  },
  {
   "cell_type": "code",
   "execution_count": 6,
   "metadata": {},
   "outputs": [],
   "source": [
    "def select_best_frame(frame_queue_2, x, y, w, h, max_brightness):\n",
    "\n",
    "    best_frame = None\n",
    "    highest_brightness = 0\n",
    "    highest_edge_richness = 0\n",
    "\n",
    "    try:\n",
    "        frame_buffer = frame_queue_2.get(timeout=5)\n",
    "    except queue.Empty:\n",
    "        print(\"No frames available in the queue. Returning None.\")\n",
    "        return None\n",
    "\n",
    "    for frame in frame_buffer:\n",
    "\n",
    "        #Crop\n",
    "        cropped_frame = crop_image(frame, x, y, w, h)\n",
    "\n",
    "        # Measure brightness\n",
    "        brightness = measure_brightness(cropped_frame)\n",
    "\n",
    "        if brightness > max_brightness :\n",
    "            # Update the best frame if this one is better\n",
    "            if brightness > highest_brightness:\n",
    "                highest_brightness = brightness\n",
    "                best_frame = frame  # Save the frame as the best frame\n",
    "        \n",
    "        elif brightness > 150 and brightness < 176:\n",
    "            # Apply edge detection\n",
    "            edge_richness = measure_edge_richness(cropped_frame)\n",
    "            # Update the best frame if this one is better\n",
    "            if edge_richness > highest_edge_richness:\n",
    "                highest_edge_richness = edge_richness\n",
    "                best_frame = frame  # Save the cropped frame as the best frame\n",
    "\n",
    "\n",
    "    return best_frame  # Returns None if no frames meet the threshold\n"
   ]
  },
  {
   "cell_type": "code",
   "execution_count": 7,
   "metadata": {},
   "outputs": [],
   "source": [
    "def counter(frame_buffer, frame_buffer_2):\n",
    "    while not stop_event.is_set():\n",
    "        for frame in frame_buffer:\n",
    "            cropped_frame2 = crop_image(frame, x, y, w, h)\n",
    "            brightness_2 = measure_brightness(cropped_frame2)\n",
    "\n",
    "            if not (brightness_2 > 60 and brightness_2 < 65) :\n",
    "                frame_buffer_2.append(frame)\n",
    "\n",
    "            else:\n",
    "                frame_queue_2.put(frame_buffer_2.copy())\n",
    "                frame_buffer_2.clear()\n",
    "                \n"
   ]
  },
  {
   "cell_type": "code",
   "execution_count": 8,
   "metadata": {},
   "outputs": [],
   "source": [
    "def process_frame(frame, target_size):\n",
    "\n",
    "    # Resize the frame to the target size\n",
    "    resized_frame = cv2.resize(frame, target_size)\n",
    "\n",
    "    # Normalize pixel values to [0, 1]\n",
    "    normalized_frame = resized_frame / 255.0\n",
    "\n",
    "    # Convert to NumPy array and add batch dimension\n",
    "    frame_array = img_to_array(normalized_frame)\n",
    "    frame_array = np.expand_dims(frame_array, axis=0)  # Shape: (1, height, width, channels)\n",
    "\n",
    "    return frame_array"
   ]
  },
  {
   "cell_type": "code",
   "execution_count": 9,
   "metadata": {},
   "outputs": [],
   "source": [
    "def predict_frame(frame, model, target_size):\n",
    "\n",
    "    # Preprocess the frame\n",
    "    frame_array = process_frame(frame, target_size)\n",
    "\n",
    "   # Make a prediction\n",
    "    prediction = model.predict(frame_array)[0][0]  # Get the confidence score\n",
    "    print(f\"Raw Prediction: {prediction}\")\n",
    "\n",
    "    # Interpret the prediction\n",
    "    if prediction > 0.5:\n",
    "        return \"Non-Defective\", prediction       \n",
    "        \n",
    "    else:\n",
    "        return \"Defective\", prediction"
   ]
  },
  {
   "cell_type": "code",
   "execution_count": 10,
   "metadata": {},
   "outputs": [],
   "source": [
    "def capture(cam, fps, frame_buffer, frame_queue, max_frames, stop_event):\n",
    "    \n",
    "    cap = cv2.VideoCapture(cam)  # Open webcam\n",
    "    cap.set(cv2.CAP_PROP_FPS, fps)  # Set the desired FPS\n",
    "\n",
    "    while not stop_event.is_set():\n",
    "        if not cap.isOpened():\n",
    "            print(\"Error: Cannot open camera.\")\n",
    "            return\n",
    "\n",
    "        while not stop_event.is_set():\n",
    "            ret, frame = cap.read()\n",
    "            if not ret:\n",
    "                print(\"Failed to capture frame. Exiting...\")\n",
    "                break\n",
    "\n",
    "            frame_buffer.append(frame)\n",
    "\n",
    "            # Yield the buffer when it's full\n",
    "            if len(frame_buffer) == max_frames:\n",
    "                frame_queue.put(frame_buffer.copy())  # Add a copy of the buffer\n",
    "                frame_buffer.clear()  # Clear the buffer for the next batch\n",
    "\n",
    "    cap.release()"
   ]
  },
  {
   "cell_type": "code",
   "execution_count": 11,
   "metadata": {},
   "outputs": [],
   "source": [
    "def runModel(model_version, frame_queue, x, y, w, h, max_brightness, stop_event, target_size=(Im_Width, Im_Height)):\n",
    "\n",
    "    # Load the model\n",
    "    print(\"Loading model...\") \n",
    "    model = load_model(model_version)\n",
    "    print(\"Model loaded successfully.\")\n",
    "    \n",
    "    while True:\n",
    "        frame_buffer = frame_queue.get()\n",
    "        frame_buffer_2 = frame_queue_2.get()\n",
    "        best_frame = select_best_frame(frame_buffer, x, y, w, h, max_brightness)\n",
    "        # Process and predict\n",
    "        if best_frame is not None:\n",
    "            feedback, confidence = predict_frame(best_frame, model, target_size)\n",
    "\n",
    "            prob = abs(round(confidence,2)- 0.5)*200\n",
    "            print(f\"Prediction: {feedback} (Confidence: {prob:.2f})\")\n",
    "\n",
    "            # Display feedback on the frame\n",
    "            cv2.putText(best_frame, f\"Prediction: {feedback}\", (10, 30),\n",
    "                cv2.FONT_HERSHEY_SIMPLEX, 1, (0, 255, 0), 2)\n",
    "            cv2.putText(best_frame, f\"Confidence: {prob:.0f}\", (10, 60),\n",
    "                cv2.FONT_HERSHEY_SIMPLEX, 1, (0, 255, 0), 2)\n",
    "\n",
    "            # Display the best frame\n",
    "            cv2.imshow(\"Best Frame\", best_frame)\n",
    "\n",
    "        else:\n",
    "            # Load and display the \"no-bottle\" image in the same window\n",
    "            image = cv2.imread(image_path)\n",
    "            cv2.putText(image, \"No Bottle!\", (10, 30),\n",
    "                cv2.FONT_HERSHEY_SIMPLEX, 1, (0, 255, 0), 2)\n",
    "            cv2.imshow(\"Best Frame\", image)\n",
    "\n",
    "        # Exit on 'ESC' key\n",
    "        if cv2.waitKey(1) & 0xFF == 27:\n",
    "            #run = False\n",
    "            stop_event.set()\n",
    "            break\n",
    "\n",
    "    cv2.destroyAllWindows()\n",
    "    #return run"
   ]
  },
  {
   "cell_type": "code",
   "execution_count": 12,
   "metadata": {},
   "outputs": [],
   "source": [
    "capture_thread = threading.Thread(target=capture, args=(cam, fps, frame_buffer, frame_queue, max_frames, stop_event))\n",
    "count_thread = threading.Thread(target=counter, args=(frame_buffer, frame_buffer_2))\n",
    "runModel_thread = threading.Thread(target=runModel, args=(model_version, frame_queue, x, y, w, h, max_brightness, stop_event))"
   ]
  },
  {
   "cell_type": "code",
   "execution_count": null,
   "metadata": {},
   "outputs": [
    {
     "name": "stdout",
     "output_type": "stream",
     "text": [
      "Loading model...\n",
      "Type of frame_queue_2: <class 'queue.Queue'>\n"
     ]
    },
    {
     "name": "stderr",
     "output_type": "stream",
     "text": [
      "Exception in thread Thread-5 (runModel):\n",
      "Traceback (most recent call last):\n",
      "  File \"c:\\Users\\malin\\AppData\\Local\\Programs\\Python\\Python310\\lib\\threading.py\", line 1009, in _bootstrap_inner\n",
      "    self.run()\n",
      "  File \"C:\\Users\\malin\\AppData\\Roaming\\Python\\Python310\\site-packages\\ipykernel\\ipkernel.py\", line 766, in run_closure\n",
      "    _threading_Thread_run(self)\n",
      "  File \"c:\\Users\\malin\\AppData\\Local\\Programs\\Python\\Python310\\lib\\threading.py\", line 946, in run\n",
      "    self._target(*self._args, **self._kwargs)\n",
      "  File \"C:\\Users\\malin\\AppData\\Local\\Temp\\ipykernel_12976\\327049519.py\", line 10, in runModel\n",
      "  File \"C:\\Users\\malin\\AppData\\Local\\Temp\\ipykernel_12976\\3790783308.py\", line 8, in select_best_frame\n",
      "AttributeError: 'list' object has no attribute 'get'\n"
     ]
    },
    {
     "name": "stdout",
     "output_type": "stream",
     "text": [
      "Model loaded successfully.\n"
     ]
    }
   ],
   "source": [
    "if __name__ == \"__main__\":\n",
    "\n",
    "    # Start the threads\n",
    "    capture_thread.start()\n",
    "    time.sleep(5)\n",
    "    count_thread.start()\n",
    "    runModel_thread.start()\n",
    "\n",
    "    print(f\"Type of frame_queue_2: {type(frame_queue_2)}\")\n",
    "\n",
    "    # Wait for threads to complete\n",
    "    capture_thread.join()\n",
    "    count_thread.join()\n",
    "    runModel_thread.join()\n"
   ]
  }
 ],
 "metadata": {
  "kernelspec": {
   "display_name": "Python 3",
   "language": "python",
   "name": "python3"
  },
  "language_info": {
   "codemirror_mode": {
    "name": "ipython",
    "version": 3
   },
   "file_extension": ".py",
   "mimetype": "text/x-python",
   "name": "python",
   "nbconvert_exporter": "python",
   "pygments_lexer": "ipython3",
   "version": "3.10.0"
  }
 },
 "nbformat": 4,
 "nbformat_minor": 2
}
