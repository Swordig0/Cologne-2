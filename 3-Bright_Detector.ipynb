{
 "cells": [
  {
   "cell_type": "code",
   "execution_count": 17,
   "metadata": {},
   "outputs": [],
   "source": [
    "import os\n",
    "import cv2\n",
    "import numpy as np"
   ]
  },
  {
   "cell_type": "code",
   "execution_count": 18,
   "metadata": {},
   "outputs": [],
   "source": [
    "def measure_brightness(frame):\n",
    "    \"\"\"\n",
    "    Measures the brightness of an image by calculating the average pixel intensity.\n",
    "\n",
    "    Args:\n",
    "        frame (np.array): Input image in BGR format.\n",
    "\n",
    "    Returns:\n",
    "        float: Average brightness of the image.\n",
    "    \"\"\"\n",
    "    gray = cv2.cvtColor(frame, cv2.COLOR_BGR2GRAY)  # Convert to grayscale\n",
    "    brightness = np.mean(gray)  # Compute the mean intensity\n",
    "    return brightness"
   ]
  },
  {
   "cell_type": "code",
   "execution_count": 19,
   "metadata": {},
   "outputs": [],
   "source": [
    "def crop_image(frame, x, y, w, h):\n",
    "    \"\"\"\n",
    "    Crops a region of interest (ROI) from an image.\n",
    "\n",
    "    Args:\n",
    "        frame (np.array): Input image.\n",
    "        x (int): X-coordinate of the top-left corner of the ROI.\n",
    "        y (int): Y-coordinate of the top-left corner of the ROI.\n",
    "        w (int): Width of the ROI.\n",
    "        h (int): Height of the ROI.\n",
    "\n",
    "    Returns:\n",
    "        np.array: Cropped image.\n",
    "    \"\"\"\n",
    "    return frame[y:y+h, x:x+w]"
   ]
  },
  {
   "cell_type": "code",
   "execution_count": 20,
   "metadata": {},
   "outputs": [
    {
     "name": "stdout",
     "output_type": "stream",
     "text": [
      "Processed frame_0000.jpg: Brightness = 130.57\n",
      "Best frame saved as: Results/Bright/0/Best\\best_frame_frame_0000.jpg with Brightness = 130.5666625\n"
     ]
    }
   ],
   "source": [
    "def process_brightness_batch(input_path, output_path):\n",
    "    \"\"\"\n",
    "    Processes a batch of images, measures brightness, and saves results.\n",
    "\n",
    "    Args:\n",
    "        input_path (str): Path to the folder containing input images.\n",
    "        output_path (str): Path to save results.\n",
    "    \"\"\"\n",
    "    if not os.path.exists(output_path):\n",
    "        os.makedirs(output_path)  # Create the output directory if it doesn't exist\n",
    "\n",
    "    best_frame = None\n",
    "    best_frame_name = None\n",
    "    highest_brightness = -1  # Initialize with a very low value\n",
    "\n",
    "    brightness_scores = []\n",
    "\n",
    "    for filename in os.listdir(input_path):\n",
    "        input_file = os.path.join(input_path, filename)\n",
    "\n",
    "        # Ensure the file is an image\n",
    "        if not filename.lower().endswith(('.jpg')):\n",
    "            continue\n",
    "\n",
    "        # Read the image\n",
    "        frame = cv2.imread(input_file)\n",
    "        if frame is None:\n",
    "            print(f\"Failed to read {input_file}. Skipping...\")\n",
    "            continue\n",
    "        \n",
    "        cropped = crop_image(frame, x, y, w, h)\n",
    "        cropped_frame = os.path.join(cropped_frame_path, f\"{filename}\")\n",
    "        cv2.imwrite(cropped_frame, cropped)\n",
    "        \n",
    "        # Measure brightness\n",
    "        brightness = measure_brightness(cropped)\n",
    "        brightness_scores.append((filename, brightness))\n",
    "\n",
    "        print(f\"Processed {filename}: Brightness = {brightness:.2f}\")\n",
    "\n",
    "        # Save brightness scores to a text file\n",
    "        scores_file = os.path.join(output_path, \"brightness_scores.txt\")\n",
    "        with open(scores_file, \"a\") as f:\n",
    "            f.write(f\"Name {filename} : {brightness:.2f}\\n\")\n",
    "\n",
    "        # Update the best frame if this one is better\n",
    "        if brightness > highest_brightness:\n",
    "            highest_brightness = brightness\n",
    "            best_frame = frame  # Save the cropped frame as the best frame\n",
    "            best_frame_name = filename\n",
    "    \n",
    "    # Save the best frame separately\n",
    "    if best_frame is not None:\n",
    "        best_frame_file = os.path.join(best_frame_path, f\"best_frame_{best_frame_name}\")\n",
    "        cv2.imwrite(best_frame_file, best_frame)\n",
    "        print(f\"Best frame saved as: {best_frame_file} with Brightness = {highest_brightness}\")\n",
    "\n",
    "\n",
    "# Example usage\n",
    "input_path = \"Samples/0\"   # Replace with your input images path\n",
    "output_path = \"Results/Bright/0\"  # Replace with your results path\n",
    "best_frame_path = \"Results/Bright/0/Best\"    # Replace with the path to save the best frame\n",
    "cropped_frame_path = \"Results/Bright/0/Crop\" \n",
    "x, y, w, h = 120, 0, 400, 200  # Example crop rectangle (top-left at (100, 50), 200x200 size)\n",
    "process_brightness_batch(input_path, output_path)"
   ]
  }
 ],
 "metadata": {
  "kernelspec": {
   "display_name": "Python 3",
   "language": "python",
   "name": "python3"
  },
  "language_info": {
   "codemirror_mode": {
    "name": "ipython",
    "version": 3
   },
   "file_extension": ".py",
   "mimetype": "text/x-python",
   "name": "python",
   "nbconvert_exporter": "python",
   "pygments_lexer": "ipython3",
   "version": "3.10.0"
  }
 },
 "nbformat": 4,
 "nbformat_minor": 2
}
